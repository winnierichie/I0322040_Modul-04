{
  "cells": [
    {
      "attachments": {},
      "cell_type": "markdown",
      "metadata": {},
      "source": [
        "### Example:"
      ]
    },
    {
      "cell_type": "markdown",
      "metadata": {
        "id": "BCq0U8PajyGV"
      },
      "source": [
        "Dalam penggunaan pengkondisian, pyhton mensupport untuk penggunaan logika matematika: \n",
        "- Equals : a == b\n",
        "- Not Equals : a != b\n",
        "- Kurang dari : a < b \n",
        "dan sebagainya"
      ]
    },
    {
      "cell_type": "code",
      "execution_count": 1,
      "metadata": {
        "colab": {
          "base_uri": "https://localhost:8080/"
        },
        "id": "59lbFSrpkQf9",
        "outputId": "6481ba0b-8243-4232-8c86-d289c7aaa11e"
      },
      "outputs": [],
      "source": [
        "a = 33\n",
        "b = 50\n",
        "if b > a :\n",
        "  print(\"b lebih besar dari a\")"
      ]
    },
    {
      "cell_type": "markdown",
      "metadata": {
        "id": "IW1ldvh6kgrW"
      },
      "source": [
        "untuk menjalankan rangkaian program lain jika kondisi tidak terpenuhi, gunakan Else"
      ]
    },
    {
      "cell_type": "code",
      "execution_count": 2,
      "metadata": {
        "id": "-P-i4GY-ksvH"
      },
      "outputs": [
        {
          "name": "stdout",
          "output_type": "stream",
          "text": [
            "b lebih besar dari a\n"
          ]
        }
      ],
      "source": [
        "a = 33\n",
        "b = 44\n",
        "if b < a :\n",
        "  print(\"b lebih kecil dari a\")\n",
        "else: #setelah else tidak perlu diberi syarat kondisi\n",
        "  print(\"b lebih besar dari a\")"
      ]
    },
    {
      "cell_type": "markdown",
      "metadata": {
        "id": "SX4u-2dgk-Yy"
      },
      "source": [
        "if dan else dapat digunakan jika hanya terdapat dua kemungkinan. untuk kondisi yang lebih dari dua kemungkinan gunakan Elif "
      ]
    },
    {
      "cell_type": "code",
      "execution_count": 15,
      "metadata": {
        "id": "si1zhdY6lKDD"
      },
      "outputs": [
        {
          "name": "stdout",
          "output_type": "stream",
          "text": [
            "a bernilai sama dengan b\n"
          ]
        }
      ],
      "source": [
        "a = 33\n",
        "b = 33\n",
        "if a > b :\n",
        "  print(\"a lebih besar dari b\")\n",
        " #elif merupakan singkatan dari else if\n",
        " #setelah elif, masih perlu ditambahkan syarat kondisi\n",
        "elif a == b :\n",
        "  print(\"a bernilai sama dengan b\")\n",
        "else:\n",
        "  print(\"a lebih kecil dari b\")"
      ]
    },
    {
      "cell_type": "markdown",
      "metadata": {
        "id": "30oEsy44ln7q"
      },
      "source": [
        "selain operator logika, operator perbandingan seperti AND OR dan NOT"
      ]
    },
    {
      "cell_type": "code",
      "execution_count": 4,
      "metadata": {
        "id": "qZzXSauAm0b6"
      },
      "outputs": [
        {
          "name": "stdout",
          "output_type": "stream",
          "text": [
            "Keduanya benar!\n"
          ]
        }
      ],
      "source": [
        "a = 20\n",
        "b = 3\n",
        "c = 50\n",
        "if a > b and c > a : #syarat penggunaan AND adalah kedua kondisi harus bernilai TRUE\n",
        "  print(\"Keduanya benar!\")"
      ]
    },
    {
      "cell_type": "code",
      "execution_count": 4,
      "metadata": {
        "id": "tUmml-26mf4e"
      },
      "outputs": [
        {
          "name": "stdout",
          "output_type": "stream",
          "text": [
            "Salah satu kondisi benar!\n"
          ]
        }
      ],
      "source": [
        "a = 20\n",
        "b = 3\n",
        "c = 50\n",
        "if a > b or c < a : #syarat penggunaan OR adalah Salah satu kondisi harus bernilai TRUE\n",
        "  print(\"Salah satu kondisi benar!\")"
      ]
    },
    {
      "cell_type": "code",
      "execution_count": 6,
      "metadata": {
        "id": "hYXsEcz0nP2c"
      },
      "outputs": [
        {
          "name": "stdout",
          "output_type": "stream",
          "text": [
            "B tidak lebih besar dari A\n"
          ]
        }
      ],
      "source": [
        "a = 20\n",
        "b = 3\n",
        "c = 50\n",
        "if not b > a : #NOT berarti menegasikan hasil\n",
        "  print(\"B tidak lebih besar dari A\")"
      ]
    },
    {
      "cell_type": "markdown",
      "metadata": {
        "id": "abYLk-gDn8UK"
      },
      "source": [
        "IF dalam IF\n",
        "pengkondisian memungkinkan untuk memiliki banyak cabang, termasuk kondisi setelah kondisi (if dalam if)"
      ]
    },
    {
      "cell_type": "code",
      "execution_count": 7,
      "metadata": {
        "id": "ebgPQzXqjQmA"
      },
      "outputs": [
        {
          "name": "stdout",
          "output_type": "stream",
          "text": [
            "User berumur diatas 10 tahun\n",
            "Tetapi user masih dibawah 20 tahun\n"
          ]
        }
      ],
      "source": [
        "umur = 19\n",
        "\n",
        "if umur > 10:\n",
        "  print(\"User berumur diatas 10 tahun\")\n",
        "  if umur > 20:\n",
        "    print(\"User berumur diatas 20 tahun\")\n",
        "  else:\n",
        "    print(\"Tetapi user masih dibawah 20 tahun\")"
      ]
    },
    {
      "attachments": {},
      "cell_type": "markdown",
      "metadata": {},
      "source": [
        "### Praktik:"
      ]
    },
    {
      "attachments": {},
      "cell_type": "markdown",
      "metadata": {},
      "source": [
        "1. Buatlah program pengkondisian yang meminta input dari user berupa umur dua orang, kemudian menghasilkan output berupa umur siapa yang lebih tua"
      ]
    },
    {
      "cell_type": "code",
      "execution_count": 7,
      "metadata": {},
      "outputs": [
        {
          "name": "stdout",
          "output_type": "stream",
          "text": [
            "umur orang kedua lebih tua daripada orang pertama\n"
          ]
        }
      ],
      "source": [
        "# Kerjakan soal no 1 di sini\n",
        "a=int(input(\"masukkan umur orang pertama : \"))\n",
        "b=int(input(\"masukkan umur orang kedua : \"))\n",
        "if a>b:\n",
        "    print(\"umur orang pertama lebih tua daripada orang kedua\")\n",
        "else:\n",
        "    print(\"umur orang kedua lebih tua daripada orang pertama\")"
      ]
    },
    {
      "attachments": {},
      "cell_type": "markdown",
      "metadata": {},
      "source": [
        "2. Buatlah program kasir yang meminta input dari user berupa nominal belanja, selanjutnya program tersebut akan melakukan perhitungan diskon:\\\n",
        "    a. apabila nominal belanja lebih dari sama dengan 500000, maka akan mendapat diskon 25%<br>\n",
        "    b. apabila nominal belanja lebih dari sama dengan 300000, maka akan mendapat diskon 15%<br>\n",
        "    c. apabila nominal belanja lebih dari sama dengan 100000, maka akan mendapat diskon 5%<br>\n",
        "Selanjutnya program tersebut akan menghasilkan output total harga yang harus dibayarkan oleh user"
      ]
    },
    {
      "cell_type": "code",
      "execution_count": 23,
      "metadata": {},
      "outputs": [
        {
          "name": "stdout",
          "output_type": "stream",
          "text": [
            "142500.665\n"
          ]
        }
      ],
      "source": [
        "# Kerjakan soal no 2 di sini\n",
        "a=float(input(\"masukkan nominal belanja anda : \"))\n",
        "if a>=500000:\n",
        "    x=a-(a*0.25)\n",
        "    print(x) \n",
        "elif a>=300000:\n",
        "        x=a-(a*0.15)\n",
        "        print(x) \n",
        "elif a>=100000:\n",
        "        x=a-(a*0.05)\n",
        "        print(x)\n",
        "else:\n",
        "        print(a)"
      ]
    }
  ],
  "metadata": {
    "colab": {
      "provenance": []
    },
    "kernelspec": {
      "display_name": "Python 3",
      "name": "python3"
    },
    "language_info": {
      "codemirror_mode": {
        "name": "ipython",
        "version": 3
      },
      "file_extension": ".py",
      "mimetype": "text/x-python",
      "name": "python",
      "nbconvert_exporter": "python",
      "pygments_lexer": "ipython3",
      "version": "3.11.2"
    }
  },
  "nbformat": 4,
  "nbformat_minor": 0
}
